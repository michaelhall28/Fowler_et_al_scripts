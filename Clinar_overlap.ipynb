{
 "cells": [
  {
   "cell_type": "code",
   "execution_count": 1,
   "metadata": {
    "ExecuteTime": {
     "end_time": "2020-06-26T15:38:50.027920Z",
     "start_time": "2020-06-26T15:38:49.155692Z"
    }
   },
   "outputs": [],
   "source": [
    "import numpy as np\n",
    "import pandas as pd\n",
    "import matplotlib.pyplot as plt\n",
    "%matplotlib inline\n",
    "import matplotlib\n",
    "matplotlib.rcParams['figure.figsize'] = [8, 6]"
   ]
  },
  {
   "cell_type": "code",
   "execution_count": 2,
   "metadata": {
    "ExecuteTime": {
     "end_time": "2020-06-26T15:38:52.430966Z",
     "start_time": "2020-06-26T15:38:50.029903Z"
    }
   },
   "outputs": [],
   "source": [
    "from darwinian_shift import DarwinianShift, ClinvarLookup, CDFPermutationTest, ChiSquareTest"
   ]
  },
  {
   "cell_type": "code",
   "execution_count": 3,
   "metadata": {
    "ExecuteTime": {
     "end_time": "2020-06-26T15:39:03.703427Z",
     "start_time": "2020-06-26T15:38:52.437016Z"
    }
   },
   "outputs": [
    {
     "name": "stderr",
     "output_type": "stream",
     "text": [
      "/Users/mh28/miniconda3/envs/ds/lib/python3.8/site-packages/IPython/core/interactiveshell.py:3254: DtypeWarning: Columns (18) have mixed types.Specify dtype option on import or set low_memory=False.\n",
      "  if (await self.run_code(code, result,  async_=asy)):\n"
     ]
    }
   ],
   "source": [
    "# Need to download the variant_summary.txt file from clinvar. \n",
    "cl = ClinvarLookup(clinvar_variant_summary_file=\"variant_summary.txt\", \n",
    "                   assembly=\"GRCh37\", clinsigsimple=False)"
   ]
  },
  {
   "cell_type": "code",
   "execution_count": 4,
   "metadata": {
    "ExecuteTime": {
     "end_time": "2020-06-26T15:40:22.188018Z",
     "start_time": "2020-06-26T15:39:03.705636Z"
    }
   },
   "outputs": [
    {
     "name": "stderr",
     "output_type": "stream",
     "text": [
      "/Users/mh28/miniconda3/envs/ds/lib/python3.8/subprocess.py:849: RuntimeWarning: line buffering (buffering=1) isn't supported in binary mode, the default buffer size will be used\n",
      "  self.stderr = io.open(errread, 'rb', bufsize)\n"
     ]
    }
   ],
   "source": [
    "d_all = DarwinianShift(data=\"SMS-35_merged_sorted.txt\",\n",
    "                  source_genome='grch37', lookup=cl,\n",
    "                   stats=[ChiSquareTest(bins=[-1, 0.5, 2])]\n",
    "                  )"
   ]
  },
  {
   "cell_type": "code",
   "execution_count": 5,
   "metadata": {
    "ExecuteTime": {
     "end_time": "2020-06-26T15:45:35.896320Z",
     "start_time": "2020-06-26T15:40:22.190262Z"
    }
   },
   "outputs": [
    {
     "name": "stderr",
     "output_type": "stream",
     "text": [
      "/Users/mh28/PycharmProjects/darwinian_shift/darwinian_shift/lookup_classes/clinvar_lookup.py:43: RuntimeWarning: All-NaN axis encountered\n",
      "  return np.nanmax(scores)\n",
      "/Users/mh28/miniconda3/envs/ds/lib/python3.8/site-packages/scipy/stats/stats.py:5745: RuntimeWarning: invalid value encountered in true_divide\n",
      "  terms = (f_obs - f_exp)**2 / f_exp\n",
      "/Users/mh28/miniconda3/envs/ds/lib/python3.8/site-packages/statsmodels/stats/multitest.py:325: RuntimeWarning: invalid value encountered in less_equal\n",
      "  reject = pvals_sorted <= ecdffactor*alpha\n"
     ]
    },
    {
     "name": "stdout",
     "output_type": "stream",
     "text": [
      "WARNING!\n",
      "Ties/repeated values present. KS test results are not valid.\n",
      "Check \"repeat_proportion\" column in results. If proportion is very small, KS tests may be approximately correct.\n"
     ]
    }
   ],
   "source": [
    "d_all.run_all()"
   ]
  },
  {
   "cell_type": "code",
   "execution_count": 6,
   "metadata": {
    "ExecuteTime": {
     "end_time": "2020-06-26T15:45:35.908524Z",
     "start_time": "2020-06-26T15:45:35.899177Z"
    }
   },
   "outputs": [],
   "source": [
    "res_for_supp_all = d_all.results.sort_values('chi_square_glob_k3_binom_pvalue')"
   ]
  },
  {
   "cell_type": "code",
   "execution_count": 7,
   "metadata": {
    "ExecuteTime": {
     "end_time": "2020-06-26T15:45:35.928348Z",
     "start_time": "2020-06-26T15:45:35.911465Z"
    }
   },
   "outputs": [],
   "source": [
    "res_for_supp_all['Expected annotated pathogenic/likely pathogenic'] = res_for_supp_all.apply(\n",
    "    lambda x: x['chi_square_glob_k3_expected_counts'][1], axis=1)\n",
    "res_for_supp_all['Observed annotated pathogenic/likely pathogenic'] = res_for_supp_all.apply(\n",
    "    lambda x: x['chi_square_glob_k3_observed_counts'][1], axis=1)"
   ]
  },
  {
   "cell_type": "code",
   "execution_count": 8,
   "metadata": {
    "ExecuteTime": {
     "end_time": "2020-06-26T15:45:35.939282Z",
     "start_time": "2020-06-26T15:45:35.931940Z"
    }
   },
   "outputs": [],
   "source": [
    "res_for_supp_all = res_for_supp_all[['gene', 'transcript_id', 'num_mutations', 'Expected annotated pathogenic/likely pathogenic',\n",
    "                            'Observed annotated pathogenic/likely pathogenic', 'chi_square_glob_k3_binom_pvalue', \n",
    "                             'chi_square_glob_k3_binom_qvalue'\n",
    "                            ]]"
   ]
  },
  {
   "cell_type": "code",
   "execution_count": 9,
   "metadata": {
    "ExecuteTime": {
     "end_time": "2020-06-26T15:45:35.947762Z",
     "start_time": "2020-06-26T15:45:35.941663Z"
    }
   },
   "outputs": [],
   "source": [
    "res_for_supp_all.columns = ['gene', 'transcript_id', 'num_mutations',\n",
    "       'Expected annotated pathogenic/likely pathogenic',\n",
    "       'Observed annotated pathogenic/likely pathogenic',\n",
    "       'binom_pvalue', 'binom_qvalue']"
   ]
  },
  {
   "cell_type": "code",
   "execution_count": 10,
   "metadata": {
    "ExecuteTime": {
     "end_time": "2020-06-26T15:45:35.959972Z",
     "start_time": "2020-06-26T15:45:35.950867Z"
    }
   },
   "outputs": [],
   "source": [
    "res_for_supp_all.to_csv(\"clinvar_overlap_all_types_binomial_results.csv\", index=False)"
   ]
  },
  {
   "cell_type": "markdown",
   "metadata": {},
   "source": [
    "## PIK3CA figure"
   ]
  },
  {
   "cell_type": "code",
   "execution_count": 11,
   "metadata": {
    "ExecuteTime": {
     "end_time": "2020-06-26T15:45:35.968033Z",
     "start_time": "2020-06-26T15:45:35.963376Z"
    }
   },
   "outputs": [],
   "source": [
    "from darwinian_shift import hide_top_and_right_axes"
   ]
  },
  {
   "cell_type": "code",
   "execution_count": 12,
   "metadata": {
    "ExecuteTime": {
     "end_time": "2020-06-26T15:45:40.378956Z",
     "start_time": "2020-06-26T15:45:35.971190Z"
    }
   },
   "outputs": [],
   "source": [
    "pik = d_all.run_gene('PIK3CA')"
   ]
  },
  {
   "cell_type": "code",
   "execution_count": 13,
   "metadata": {
    "ExecuteTime": {
     "end_time": "2020-06-26T15:45:40.575504Z",
     "start_time": "2020-06-26T15:45:40.381072Z"
    }
   },
   "outputs": [
    {
     "data": {
      "image/png": "[encoded data removed]",
      "text/plain": [
       "<Figure size 144x216 with 1 Axes>"
      ]
     },
     "metadata": {
      "needs_background": "light"
     },
     "output_type": "display_data"
    }
   ],
   "source": [
    "pik.plot_binned_counts(figsize=(2, 3), show_legend=False, colours=['#CC3311', '#EE6677'])\n",
    "plt.xlim(left=0.75)\n",
    "plt.ylim(top=30)\n",
    "plt.title(\"\")\n",
    "plt.xticks([1.1, 1.5], ['Exp.', 'Obs.'], rotation=0)\n",
    "plt.ylabel('Pathogenic mutations in Clinvar')\n",
    "hide_top_and_right_axes(plt.gca())\n",
    "plt.tight_layout()\n",
    "plt.savefig(\"PIK3CA_clinvar_overlap.pdf\");"
   ]
  },
  {
   "cell_type": "code",
   "execution_count": null,
   "metadata": {},
   "outputs": [],
   "source": []
  }
 ],
 "metadata": {
  "kernelspec": {
   "display_name": "Python 3",
   "language": "python",
   "name": "python3"
  },
  "language_info": {
   "codemirror_mode": {
    "name": "ipython",
    "version": 3
   },
   "file_extension": ".py",
   "mimetype": "text/x-python",
   "name": "python",
   "nbconvert_exporter": "python",
   "pygments_lexer": "ipython3",
   "version": "3.8.2"
  }
 },
 "nbformat": 4,
 "nbformat_minor": 4
}
