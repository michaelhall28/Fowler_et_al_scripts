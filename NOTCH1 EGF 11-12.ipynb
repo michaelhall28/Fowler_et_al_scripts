{
 "cells": [
  {
   "cell_type": "markdown",
   "metadata": {},
   "source": [
    "# Imports"
   ]
  },
  {
   "cell_type": "code",
   "execution_count": 1,
   "metadata": {
    "ExecuteTime": {
     "end_time": "2020-06-26T14:12:38.327203Z",
     "start_time": "2020-06-26T14:12:37.543198Z"
    }
   },
   "outputs": [],
   "source": [
    "import os\n",
    "import numpy as np\n",
    "import pandas as pd\n",
    "import matplotlib.pyplot as plt\n",
    "%matplotlib inline"
   ]
  },
  {
   "cell_type": "code",
   "execution_count": 2,
   "metadata": {
    "ExecuteTime": {
     "end_time": "2020-06-26T14:12:40.437002Z",
     "start_time": "2020-06-26T14:12:38.330133Z"
    }
   },
   "outputs": [],
   "source": [
    "from darwinian_shift import DarwinianShift, GlobalKmerSpectrum, TranscriptKmerSpectrum, EvenMutationalSpectrum\n",
    "from darwinian_shift import CDFPermutationTest, ChiSquareTest, PermutationTest\n",
    "from darwinian_shift import FoldXLookup, SequenceDistanceLookup, MutationExclusionLookup, StructureDistanceLookup\n",
    "from darwinian_shift import MutationExclusionLookup, ORLookup\n",
    "from darwinian_shift import hide_top_and_right_axes"
   ]
  },
  {
   "cell_type": "code",
   "execution_count": 3,
   "metadata": {
    "ExecuteTime": {
     "end_time": "2020-06-26T14:12:40.455636Z",
     "start_time": "2020-06-26T14:12:40.446230Z"
    }
   },
   "outputs": [],
   "source": [
    "from darwinian_shift.additional_plotting_functions import plot_scatter_two_scores"
   ]
  },
  {
   "cell_type": "code",
   "execution_count": 4,
   "metadata": {
    "ExecuteTime": {
     "end_time": "2020-06-26T14:12:40.474080Z",
     "start_time": "2020-06-26T14:12:40.465140Z"
    }
   },
   "outputs": [],
   "source": [
    "from darwinian_shift.utils.sifts_functions import get_sifts_alignment\n",
    "import os"
   ]
  },
  {
   "cell_type": "markdown",
   "metadata": {},
   "source": [
    "# Setup"
   ]
  },
  {
   "cell_type": "code",
   "execution_count": 5,
   "metadata": {
    "ExecuteTime": {
     "end_time": "2020-06-26T14:12:40.491866Z",
     "start_time": "2020-06-26T14:12:40.480599Z"
    }
   },
   "outputs": [],
   "source": [
    "# Define the region to test\n",
    "notch1_section_definition_egf11_12 = {\n",
    "    'transcript_id': 'ENST00000277541', 'pdb_id': '2vj3', 'pdb_chain': 'A', \n",
    "    'start': 412, 'end': 488 # Restrict to the residues in EGF11-12\n",
    "}\n",
    "\n",
    "notch2_section_definition_egf11_12 = {\n",
    "    'transcript_id': 'ENST00000256646', 'pdb_id': '5mwb', 'pdb_chain': 'A', \n",
    "    'start': 415, 'end': 492 # Restrict to the residues in EGF11-12\n",
    "}"
   ]
  },
  {
   "cell_type": "code",
   "execution_count": 6,
   "metadata": {
    "ExecuteTime": {
     "end_time": "2020-06-26T14:12:40.508745Z",
     "start_time": "2020-06-26T14:12:40.498409Z"
    }
   },
   "outputs": [],
   "source": [
    "# Define the mutational spectra\n",
    "main_fig_spectrum=GlobalKmerSpectrum(\n",
    "        k=3,  # Use a trinucleotide context,\n",
    "        ignore_strand=False,  # Transcribed strand of the protein matters, so have 192 different mutation types\n",
    "        deduplicate_spectrum=False,  # Do not remove duplicate mutations when calculating the spectrum\n",
    "        name=''  # Use a blank name, so in the plots it will just say \"Expected\"\n",
    "    )"
   ]
  },
  {
   "cell_type": "code",
   "execution_count": 7,
   "metadata": {
    "ExecuteTime": {
     "end_time": "2020-06-26T14:12:40.522008Z",
     "start_time": "2020-06-26T14:12:40.513751Z"
    }
   },
   "outputs": [],
   "source": [
    "# Define the statistical tests\n",
    "\n",
    "cdf_perm = CDFPermutationTest(num_permutations=100000, testing_random_seed=0)  # Used to calculate p-values\n",
    "\n",
    "chi_sq = ChiSquareTest(bins=[-0.1, 0.5, 1.1])  # Used to calculate counts for the discrete metrics\n",
    "\n",
    "stats = [cdf_perm, chi_sq]"
   ]
  },
  {
   "cell_type": "code",
   "execution_count": 8,
   "metadata": {
    "ExecuteTime": {
     "end_time": "2020-06-26T14:14:00.232243Z",
     "start_time": "2020-06-26T14:12:40.530114Z"
    }
   },
   "outputs": [
    {
     "name": "stderr",
     "output_type": "stream",
     "text": [
      "/Users/mh28/miniconda3/envs/ds/lib/python3.8/subprocess.py:849: RuntimeWarning: line buffering (buffering=1) isn't supported in binary mode, the default buffer size will be used\n",
      "  self.stderr = io.open(errread, 'rb', bufsize)\n"
     ]
    }
   ],
   "source": [
    "# Make a DarwinianShift object for the project. \n",
    "# This calculates the mutational spectrum, sets up the statistical tests to use, and filters the data. \n",
    "d = DarwinianShift(\n",
    "    data=\"SMS-35_merged_sorted.txt\", \n",
    "    source_genome='GRCh37',\n",
    "    spectra=main_fig_spectrum,\n",
    "    stats=[cdf_perm, chi_sq],\n",
    "    \n",
    "    # Just test with the missense mutations. Nonsense and synonymous mutations are still used to calculate the spectrum\n",
    "    included_mutation_types='missense'\n",
    ")"
   ]
  },
  {
   "cell_type": "code",
   "execution_count": 9,
   "metadata": {
    "ExecuteTime": {
     "end_time": "2020-06-26T14:14:00.240070Z",
     "start_time": "2020-06-26T14:14:00.235636Z"
    }
   },
   "outputs": [],
   "source": [
    "plot_directory=\".\"\n",
    "    \n",
    "sifts_directory=\".\"\n",
    "pdb_directory = \".\""
   ]
  },
  {
   "cell_type": "code",
   "execution_count": 10,
   "metadata": {
    "ExecuteTime": {
     "end_time": "2020-06-26T14:14:00.264255Z",
     "start_time": "2020-06-26T14:14:00.242706Z"
    }
   },
   "outputs": [],
   "source": [
    "# Colours\n",
    "\n",
    "unobserved_colour = '#BBBBBB'  \n",
    "observed_colour = '#EE7733'\n",
    "\n",
    "foldx_expected_colour = '#EE6677'\n",
    "foldx_observed_colour = '#CC3311'\n",
    "\n",
    "interface_expected_colour = '#88CCEE'\n",
    "interface_observed_colour = '#0077BB'\n",
    "\n",
    "calcium_expected_colour = '#8DE0D7'\n",
    "calcium_observed_colour = '#009988'"
   ]
  },
  {
   "cell_type": "markdown",
   "metadata": {},
   "source": [
    "# Defining all of the selected features"
   ]
  },
  {
   "cell_type": "markdown",
   "metadata": {},
   "source": [
    "## FoldX"
   ]
  },
  {
   "cell_type": "code",
   "execution_count": 11,
   "metadata": {
    "ExecuteTime": {
     "end_time": "2020-06-26T14:14:00.301302Z",
     "start_time": "2020-06-26T14:14:00.277504Z"
    }
   },
   "outputs": [],
   "source": [
    "# Define the FoldX lookup\n",
    "fold = FoldXLookup(foldx_results_directory=\"./FoldX_results\",\n",
    "                      sifts_directory=sifts_directory,\n",
    "                      foldx_file_name_start=\"PS_f*\", download_sifts=True)"
   ]
  },
  {
   "cell_type": "code",
   "execution_count": 12,
   "metadata": {
    "ExecuteTime": {
     "end_time": "2020-06-26T14:14:11.929524Z",
     "start_time": "2020-06-26T14:14:00.308654Z"
    },
    "scrolled": false
   },
   "outputs": [],
   "source": [
    "d_fold_all = d.change_lookup(fold)\n",
    "s_fold_all_notch1 = d_fold_all.run_section(notch1_section_definition_egf11_12, statistics=[cdf_perm])"
   ]
  },
  {
   "cell_type": "code",
   "execution_count": 13,
   "metadata": {
    "ExecuteTime": {
     "end_time": "2020-06-26T14:14:12.530810Z",
     "start_time": "2020-06-26T14:14:11.931771Z"
    }
   },
   "outputs": [
    {
     "data": {
      "image/png": "[encoded data removed]",
      "text/plain": [
       "<Figure size 180x216 with 1 Axes>"
      ]
     },
     "metadata": {
      "needs_background": "light"
     },
     "output_type": "display_data"
    }
   ],
   "source": [
    "s_fold_all_notch1.plot_boxplot(figsize=(2.5, 3), plot_scale='symlog',\n",
    "                    colours=[foldx_observed_colour, foldx_expected_colour])\n",
    "hide_top_and_right_axes()\n",
    "plt.tight_layout()"
   ]
  },
  {
   "cell_type": "markdown",
   "metadata": {},
   "source": [
    "## Interface"
   ]
  },
  {
   "cell_type": "code",
   "execution_count": 14,
   "metadata": {
    "ExecuteTime": {
     "end_time": "2020-06-26T14:14:12.540409Z",
     "start_time": "2020-06-26T14:14:12.533980Z"
    }
   },
   "outputs": [],
   "source": [
    "# # Using the interface residues defined in Luca et al 2017\n",
    "notch1_section_definition_egf11_12['interface_residues'] = [413, 415, 418, 420, 421, 422, 423, 424, 425, \n",
    "                                                     435, 436, 444, 447, 448, 450, 451, 452, 454, \n",
    "                                                     466, 467, 468, 469, 470, 471, 475, 477, 478, \n",
    "                                                     479, 480]"
   ]
  },
  {
   "cell_type": "code",
   "execution_count": 15,
   "metadata": {
    "ExecuteTime": {
     "end_time": "2020-06-26T14:14:12.551276Z",
     "start_time": "2020-06-26T14:14:12.543796Z"
    }
   },
   "outputs": [],
   "source": [
    "# Define a lookup object which determines whether mutations are on the NOTCH1-ligand interface. \n",
    "interface_lookup = SequenceDistanceLookup(\n",
    "    boolean=True,   # Just a boolean on/off interface. \n",
    "    target_key='interface_residues',   # Use this entry in the section_definition dict to define the target residues\n",
    "    position_type='residue',   # Use the residue number (as opposed to cdspos or chromosomal position)\n",
    "    name='On interface'  # Label to appear on plot axes\n",
    ")"
   ]
  },
  {
   "cell_type": "markdown",
   "metadata": {},
   "source": [
    "## Calcium binding"
   ]
  },
  {
   "cell_type": "markdown",
   "metadata": {},
   "source": [
    "Using the server MetalPDB https://academic.oup.com/nar/article/46/D1/D459/4564802  \n",
    "http://metalweb.cerm.unifi.it"
   ]
  },
  {
   "cell_type": "code",
   "execution_count": 16,
   "metadata": {
    "ExecuteTime": {
     "end_time": "2020-06-26T14:14:12.561014Z",
     "start_time": "2020-06-26T14:14:12.554697Z"
    }
   },
   "outputs": [],
   "source": [
    "# Add the residues to the section definition dictionary.  \n",
    "notch1_ca_binding_residues = [412, 413, 415, 431, 432, 435, 452, 453, 455, 469, 470]\n",
    "notch1_section_definition_egf11_12['ca_binding_residues'] = notch1_ca_binding_residues"
   ]
  },
  {
   "cell_type": "code",
   "execution_count": 17,
   "metadata": {
    "ExecuteTime": {
     "end_time": "2020-06-26T14:14:12.570852Z",
     "start_time": "2020-06-26T14:14:12.564762Z"
    }
   },
   "outputs": [],
   "source": [
    "ca_lookup = SequenceDistanceLookup(\n",
    "    boolean=True,   # Just a boolean binding/not binding. \n",
    "    target_key='ca_binding_residues',   # Use this entry in the section_definition dict to define the target residues\n",
    "    position_type='residue',   # Use the residue number (as opposed to cdspos or chromosomal position)\n",
    "    name='Calcium binding'  # Label to appear on plot axes\n",
    ")"
   ]
  },
  {
   "cell_type": "markdown",
   "metadata": {},
   "source": [
    "# Testing selection"
   ]
  },
  {
   "cell_type": "markdown",
   "metadata": {},
   "source": [
    "## FoldX"
   ]
  },
  {
   "cell_type": "code",
   "execution_count": 18,
   "metadata": {
    "ExecuteTime": {
     "end_time": "2020-06-26T14:14:12.582443Z",
     "start_time": "2020-06-26T14:14:12.573854Z"
    }
   },
   "outputs": [],
   "source": [
    "# First define a lookup that is 1 if the mutation is on the interface and or calcium binding\n",
    "interface_or_ca_lookup = ORLookup(\n",
    "    lookups=[interface_lookup, ca_lookup],  \n",
    "    thresholds=[0.5, 0.5],  # Set thresholds at 0.5\n",
    "    directions=[1, 1],  # Want to exclude mutations which score 1 for interface or calcium binding.\n",
    ")\n",
    "\n",
    "\n",
    "# Define the combined lookup.\n",
    "excllook_foldx = MutationExclusionLookup(\n",
    "    lookup=fold,   # Use the calcium binding lookup for the test\n",
    "    exclusion_lookup=interface_or_ca_lookup,\n",
    "    exclusion_threshold=0.5,  #  Scores from the exclusion are either 0, or 1, so can put threshold anywhere in between.\n",
    "    exclusion_direction=1,   # Exclude mutations with a score above the exclusion_threhold from the exclusion_lookup.\n",
    "    name=fold.name\n",
    ")"
   ]
  },
  {
   "cell_type": "code",
   "execution_count": 19,
   "metadata": {
    "ExecuteTime": {
     "end_time": "2020-06-26T14:14:12.610421Z",
     "start_time": "2020-06-26T14:14:12.585460Z"
    }
   },
   "outputs": [],
   "source": [
    "d_fold = d.change_lookup(excllook_foldx)"
   ]
  },
  {
   "cell_type": "code",
   "execution_count": 20,
   "metadata": {
    "ExecuteTime": {
     "end_time": "2020-06-26T14:14:19.195635Z",
     "start_time": "2020-06-26T14:14:12.613410Z"
    }
   },
   "outputs": [],
   "source": [
    "s_fold_notch1 = d_fold.run_section(notch1_section_definition_egf11_12, statistics=[cdf_perm])"
   ]
  },
  {
   "cell_type": "code",
   "execution_count": 21,
   "metadata": {
    "ExecuteTime": {
     "end_time": "2020-06-26T14:14:19.543815Z",
     "start_time": "2020-06-26T14:14:19.197752Z"
    }
   },
   "outputs": [
    {
     "data": {
      "image/png": "[encoded data removed]",
      "text/plain": [
       "<Figure size 432x216 with 1 Axes>"
      ]
     },
     "metadata": {
      "needs_background": "light"
     },
     "output_type": "display_data"
    }
   ],
   "source": [
    "s_fold_notch1.plot_scatter(figsize=(6, 3), plot_scale='symlog', show_legend=False, \n",
    "                    unobserved_mutation_colour=unobserved_colour, \n",
    "                    missense_mutation_colour=foldx_observed_colour, \n",
    "                    unmutated_marker_size=5, base_marker_size=5,\n",
    "                   )\n",
    "hide_top_and_right_axes()\n",
    "plt.tight_layout()\n",
    "plt.savefig(os.path.join(plot_directory, 'notch1_scatter_foldx_efg11_12.pdf'), transparent=True)"
   ]
  },
  {
   "cell_type": "code",
   "execution_count": 22,
   "metadata": {
    "ExecuteTime": {
     "end_time": "2020-06-26T14:14:21.395686Z",
     "start_time": "2020-06-26T14:14:19.546092Z"
    }
   },
   "outputs": [
    {
     "data": {
      "image/png": "[encoded data removed]",
      "text/plain": [
       "<Figure size 180x216 with 1 Axes>"
      ]
     },
     "metadata": {
      "needs_background": "light"
     },
     "output_type": "display_data"
    }
   ],
   "source": [
    "s_fold_notch1.plot_boxplot(figsize=(2.5, 3), plot_scale='symlog',\n",
    "                    colours=[foldx_observed_colour, foldx_expected_colour])\n",
    "hide_top_and_right_axes()\n",
    "plt.tight_layout()\n",
    "plt.savefig(os.path.join(plot_directory, 'notch1_boxplot_foldx_efg11_12.pdf'), transparent=True)"
   ]
  },
  {
   "cell_type": "code",
   "execution_count": 23,
   "metadata": {
    "ExecuteTime": {
     "end_time": "2020-06-26T14:14:21.406825Z",
     "start_time": "2020-06-26T14:14:21.401239Z"
    }
   },
   "outputs": [],
   "source": [
    "s_fold_notch1_results = s_fold_notch1.get_results_dictionary()"
   ]
  },
  {
   "cell_type": "code",
   "execution_count": 24,
   "metadata": {
    "ExecuteTime": {
     "end_time": "2020-06-26T14:14:21.420309Z",
     "start_time": "2020-06-26T14:14:21.411193Z"
    },
    "scrolled": true
   },
   "outputs": [
    {
     "data": {
      "text/plain": [
       "452"
      ]
     },
     "execution_count": 24,
     "metadata": {},
     "output_type": "execute_result"
    }
   ],
   "source": [
    "s_fold_notch1_results['num_mutations']"
   ]
  },
  {
   "cell_type": "code",
   "execution_count": 25,
   "metadata": {
    "ExecuteTime": {
     "end_time": "2020-06-26T14:14:21.431802Z",
     "start_time": "2020-06-26T14:14:21.423688Z"
    }
   },
   "outputs": [
    {
     "data": {
      "text/plain": [
       "{'CDF_perm__pvalue': 1.999980000199998e-05}"
      ]
     },
     "execution_count": 25,
     "metadata": {},
     "output_type": "execute_result"
    }
   ],
   "source": [
    "s_fold_notch1.get_pvalues()"
   ]
  },
  {
   "cell_type": "markdown",
   "metadata": {},
   "source": [
    "## Interface residues"
   ]
  },
  {
   "cell_type": "code",
   "execution_count": 26,
   "metadata": {
    "ExecuteTime": {
     "end_time": "2020-06-26T14:14:21.443242Z",
     "start_time": "2020-06-26T14:14:21.434726Z"
    }
   },
   "outputs": [],
   "source": [
    "# First define a lookup that is 1 if the mutation is destabilising or calcium binding\n",
    "destabilising_or_ca_lookup = ORLookup(\n",
    "    lookups=[fold, ca_lookup],  \n",
    "    thresholds=[2, 0.5],  # Use 2kcal/mol as the ∆∆G threshold. Ca score is 0 or 1, so set threshold at 0.5\n",
    "    directions=[1, 1],  # Want to exclude mutations which score 1 for calcium binding or > 2 for ∆G.\n",
    ")\n",
    "\n",
    "\n",
    "# Define the combined lookup.\n",
    "excllook_interface = MutationExclusionLookup(\n",
    "    lookup=interface_lookup,   # Use the calcium binding lookup for the test\n",
    "    exclusion_lookup=destabilising_or_ca_lookup,   \n",
    "    exclusion_threshold=0.5,  #  Scores from the exclusion are either 0, or 1, so can put threshold anywhere in between.\n",
    "    exclusion_direction=1,   # Exclude mutations with a score above the exclusion_threhold from the exclusion_lookup.\n",
    "    name=interface_lookup.name\n",
    ")"
   ]
  },
  {
   "cell_type": "code",
   "execution_count": 27,
   "metadata": {
    "ExecuteTime": {
     "end_time": "2020-06-26T14:14:21.474327Z",
     "start_time": "2020-06-26T14:14:21.446428Z"
    }
   },
   "outputs": [],
   "source": [
    "d_interface1 = d.change_lookup(excllook_interface)"
   ]
  },
  {
   "cell_type": "code",
   "execution_count": 28,
   "metadata": {
    "ExecuteTime": {
     "end_time": "2020-06-26T14:14:29.695882Z",
     "start_time": "2020-06-26T14:14:21.476981Z"
    }
   },
   "outputs": [],
   "source": [
    "s_interface_notch1 = d_interface1.run_section(notch1_section_definition_egf11_12)"
   ]
  },
  {
   "cell_type": "code",
   "execution_count": 29,
   "metadata": {
    "ExecuteTime": {
     "end_time": "2020-06-26T14:14:29.938011Z",
     "start_time": "2020-06-26T14:14:29.698553Z"
    }
   },
   "outputs": [
    {
     "data": {
      "image/png": "[encoded data removed]",
      "text/plain": [
       "<Figure size 432x216 with 1 Axes>"
      ]
     },
     "metadata": {
      "needs_background": "light"
     },
     "output_type": "display_data"
    }
   ],
   "source": [
    "s_interface_notch1.plot_scatter(figsize=(6, 3), show_legend=False, \n",
    "                          unobserved_mutation_colour=unobserved_colour, \n",
    "                          missense_mutation_colour=interface_observed_colour, \n",
    "                         base_marker_size=5, unmutated_marker_size=5)\n",
    "plt.yticks([0, 1], ['False', 'True']);\n",
    "hide_top_and_right_axes()\n",
    "plt.tight_layout()\n",
    "plt.savefig(os.path.join(plot_directory, 'notch1_scatter_interface_efg11_12.pdf'), transparent=True)"
   ]
  },
  {
   "cell_type": "code",
   "execution_count": 30,
   "metadata": {
    "ExecuteTime": {
     "end_time": "2020-06-26T14:14:30.141439Z",
     "start_time": "2020-06-26T14:14:29.940451Z"
    }
   },
   "outputs": [
    {
     "data": {
      "image/png": "[encoded data removed]",
      "text/plain": [
       "<Figure size 144x216 with 1 Axes>"
      ]
     },
     "metadata": {
      "needs_background": "light"
     },
     "output_type": "display_data"
    }
   ],
   "source": [
    "s_interface_notch1.plot_binned_counts(figsize=(2, 3), show_legend=False, \n",
    "                                      colours=[interface_observed_colour, interface_expected_colour])\n",
    "plt.xlim(left=0.75)\n",
    "# plt.ylim(top=35)\n",
    "plt.title(\"\")\n",
    "plt.xticks([1.1, 1.5], ['Exp.', 'Obs.'], rotation=0)\n",
    "plt.ylabel('Mutations on interface')\n",
    "hide_top_and_right_axes(plt.gca())\n",
    "plt.tight_layout()\n",
    "plt.savefig(os.path.join(plot_directory,\"notch1_bar_interface_efg11_12.pdf\"),  transparent=True);"
   ]
  },
  {
   "cell_type": "code",
   "execution_count": 31,
   "metadata": {
    "ExecuteTime": {
     "end_time": "2020-06-26T14:14:30.147409Z",
     "start_time": "2020-06-26T14:14:30.143832Z"
    }
   },
   "outputs": [],
   "source": [
    "s_interface_notch1_results = s_interface_notch1.get_results_dictionary()"
   ]
  },
  {
   "cell_type": "code",
   "execution_count": 32,
   "metadata": {
    "ExecuteTime": {
     "end_time": "2020-06-26T14:14:30.154927Z",
     "start_time": "2020-06-26T14:14:30.149810Z"
    }
   },
   "outputs": [
    {
     "data": {
      "text/plain": [
       "315"
      ]
     },
     "execution_count": 32,
     "metadata": {},
     "output_type": "execute_result"
    }
   ],
   "source": [
    "s_interface_notch1_results['num_mutations']"
   ]
  },
  {
   "cell_type": "code",
   "execution_count": 33,
   "metadata": {
    "ExecuteTime": {
     "end_time": "2020-06-26T14:14:30.164434Z",
     "start_time": "2020-06-26T14:14:30.158520Z"
    }
   },
   "outputs": [
    {
     "data": {
      "text/plain": [
       "1.999980000199998e-05"
      ]
     },
     "execution_count": 33,
     "metadata": {},
     "output_type": "execute_result"
    }
   ],
   "source": [
    "s_interface_notch1_results['CDF_perm__pvalue']  # P-value of the permutation test"
   ]
  },
  {
   "cell_type": "markdown",
   "metadata": {},
   "source": [
    "## Calcium binding residues"
   ]
  },
  {
   "cell_type": "code",
   "execution_count": 34,
   "metadata": {
    "ExecuteTime": {
     "end_time": "2020-06-26T14:14:30.175502Z",
     "start_time": "2020-06-26T14:14:30.166778Z"
    }
   },
   "outputs": [],
   "source": [
    "# First define a lookup that is 1 if the mutation is destabilising or on the interface and 0 otherwise.\n",
    "destabilising_or_interface_lookup = ORLookup(\n",
    "    lookups=[fold, interface_lookup],  # Use the FoldX and the interface lookups.  \n",
    "    thresholds=[2, 0.5],  # Again pick a threshold of 2kcal/mol for the FoldX result, interface results are either 0 or 1 so set threshold at 0.5. \n",
    "    directions=[1, 1],  # Want to exclude mutations with scores greater than the thresholds, so directions are both 1.\n",
    ")\n",
    "\n",
    "\n",
    "# Define the combined lookup.\n",
    "excllook_ca = MutationExclusionLookup(\n",
    "    lookup=ca_lookup,   # Use the calcium binding lookup for the test\n",
    "    exclusion_lookup=destabilising_or_interface_lookup,   \n",
    "    exclusion_threshold=0.5,  #  Scores from the exclusion are either 0, or 1, so can put threshold anywhere in between.\n",
    "    exclusion_direction=1,   # Exclude mutations with a score above the exclusion_threhold from the exclusion_lookup.\n",
    "    name=ca_lookup.name\n",
    ")"
   ]
  },
  {
   "cell_type": "code",
   "execution_count": 35,
   "metadata": {
    "ExecuteTime": {
     "end_time": "2020-06-26T14:14:30.200895Z",
     "start_time": "2020-06-26T14:14:30.178709Z"
    }
   },
   "outputs": [],
   "source": [
    "d_ca2 = d.change_lookup(excllook_ca)"
   ]
  },
  {
   "cell_type": "code",
   "execution_count": 36,
   "metadata": {
    "ExecuteTime": {
     "end_time": "2020-06-26T14:14:36.163067Z",
     "start_time": "2020-06-26T14:14:30.203808Z"
    }
   },
   "outputs": [],
   "source": [
    "s_ca_notch1 = d_ca2.run_section(notch1_section_definition_egf11_12)"
   ]
  },
  {
   "cell_type": "code",
   "execution_count": 37,
   "metadata": {
    "ExecuteTime": {
     "end_time": "2020-06-26T14:14:36.399078Z",
     "start_time": "2020-06-26T14:14:36.165675Z"
    }
   },
   "outputs": [
    {
     "data": {
      "image/png": "[encoded data removed]",
      "text/plain": [
       "<Figure size 432x216 with 1 Axes>"
      ]
     },
     "metadata": {
      "needs_background": "light"
     },
     "output_type": "display_data"
    }
   ],
   "source": [
    "s_ca_notch1.plot_scatter(figsize=(6, 3), show_legend=False, \n",
    "                  unobserved_mutation_colour=unobserved_colour, \n",
    "                   missense_mutation_colour=calcium_observed_colour,\n",
    "                  base_marker_size=5, unmutated_marker_size=5)\n",
    "plt.yticks([0, 1], ['False', 'True']);\n",
    "hide_top_and_right_axes()\n",
    "plt.tight_layout()\n",
    "plt.savefig(os.path.join(plot_directory, 'notch1_scatter_ca_efg11_12.pdf'), transparent=True)"
   ]
  },
  {
   "cell_type": "code",
   "execution_count": 38,
   "metadata": {
    "ExecuteTime": {
     "end_time": "2020-06-26T14:14:36.631019Z",
     "start_time": "2020-06-26T14:14:36.401330Z"
    }
   },
   "outputs": [
    {
     "data": {
      "image/png": "[encoded data removed]",
      "text/plain": [
       "<Figure size 144x216 with 1 Axes>"
      ]
     },
     "metadata": {
      "needs_background": "light"
     },
     "output_type": "display_data"
    }
   ],
   "source": [
    "s_ca_notch1.plot_binned_counts(figsize=(2, 3), show_legend=False, \n",
    "                                      colours=[calcium_observed_colour, calcium_expected_colour])\n",
    "plt.xlim(left=0.75)\n",
    "plt.ylim(top=120)\n",
    "plt.title(\"\")\n",
    "plt.xticks([1.1, 1.5], ['Exp.', 'Obs.'], rotation=0)\n",
    "plt.ylabel('Mutations on CA binding residues')\n",
    "hide_top_and_right_axes(plt.gca())\n",
    "plt.tight_layout()\n",
    "plt.savefig(os.path.join(plot_directory,\"notch1_bar_ca_efg11_12.pdf\"),  transparent=True);"
   ]
  },
  {
   "cell_type": "code",
   "execution_count": 39,
   "metadata": {
    "ExecuteTime": {
     "end_time": "2020-06-26T14:14:36.637455Z",
     "start_time": "2020-06-26T14:14:36.633370Z"
    }
   },
   "outputs": [],
   "source": [
    "s_ca_notch1_results = s_ca_notch1.get_results_dictionary()"
   ]
  },
  {
   "cell_type": "code",
   "execution_count": 40,
   "metadata": {
    "ExecuteTime": {
     "end_time": "2020-06-26T14:14:36.649223Z",
     "start_time": "2020-06-26T14:14:36.640159Z"
    }
   },
   "outputs": [
    {
     "data": {
      "text/plain": [
       "195"
      ]
     },
     "execution_count": 40,
     "metadata": {},
     "output_type": "execute_result"
    }
   ],
   "source": [
    "s_ca_notch1_results['num_mutations']"
   ]
  },
  {
   "cell_type": "code",
   "execution_count": 41,
   "metadata": {
    "ExecuteTime": {
     "end_time": "2020-06-26T14:14:36.660706Z",
     "start_time": "2020-06-26T14:14:36.652995Z"
    }
   },
   "outputs": [
    {
     "data": {
      "text/plain": [
       "1.999980000199998e-05"
      ]
     },
     "execution_count": 41,
     "metadata": {},
     "output_type": "execute_result"
    }
   ],
   "source": [
    "s_ca_notch1_results['CDF_perm__pvalue']  # P-value of permutation test"
   ]
  },
  {
   "cell_type": "code",
   "execution_count": null,
   "metadata": {},
   "outputs": [],
   "source": []
  }
 ],
 "metadata": {
  "kernelspec": {
   "display_name": "Python 3",
   "language": "python",
   "name": "python3"
  },
  "language_info": {
   "codemirror_mode": {
    "name": "ipython",
    "version": 3
   },
   "file_extension": ".py",
   "mimetype": "text/x-python",
   "name": "python",
   "nbconvert_exporter": "python",
   "pygments_lexer": "ipython3",
   "version": "3.8.2"
  },
  "notify_time": "10"
 },
 "nbformat": 4,
 "nbformat_minor": 2
}
