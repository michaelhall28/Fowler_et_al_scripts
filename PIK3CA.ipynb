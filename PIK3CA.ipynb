{
 "cells": [
  {
   "cell_type": "markdown",
   "metadata": {},
   "source": [
    "# Imports"
   ]
  },
  {
   "cell_type": "code",
   "execution_count": 1,
   "metadata": {
    "ExecuteTime": {
     "end_time": "2020-06-26T14:49:03.541140Z",
     "start_time": "2020-06-26T14:48:59.770769Z"
    }
   },
   "outputs": [],
   "source": [
    "import os\n",
    "import numpy as np\n",
    "import pandas as pd\n",
    "import matplotlib.pyplot as plt\n",
    "%matplotlib inline"
   ]
  },
  {
   "cell_type": "code",
   "execution_count": 2,
   "metadata": {
    "ExecuteTime": {
     "end_time": "2020-06-26T14:49:11.875331Z",
     "start_time": "2020-06-26T14:49:03.543230Z"
    }
   },
   "outputs": [],
   "source": [
    "from darwinian_shift import DarwinianShift, GlobalKmerSpectrum, TranscriptKmerSpectrum, EvenMutationalSpectrum\n",
    "from darwinian_shift import CDFPermutationTest, ChiSquareTest, PermutationTest\n",
    "from darwinian_shift import FoldXLookup, SequenceDistanceLookup, MutationExclusionLookup, StructureDistanceLookup\n",
    "from darwinian_shift import MutationExclusionLookup, ANDLookup\n",
    "from darwinian_shift import hide_top_and_right_axes"
   ]
  },
  {
   "cell_type": "code",
   "execution_count": 3,
   "metadata": {
    "ExecuteTime": {
     "end_time": "2020-06-26T14:49:11.881351Z",
     "start_time": "2020-06-26T14:49:11.877178Z"
    }
   },
   "outputs": [],
   "source": [
    "from darwinian_shift.additional_plotting_functions import plot_scatter_two_scores"
   ]
  },
  {
   "cell_type": "code",
   "execution_count": 4,
   "metadata": {
    "ExecuteTime": {
     "end_time": "2020-06-26T14:49:11.890008Z",
     "start_time": "2020-06-26T14:49:11.885782Z"
    }
   },
   "outputs": [],
   "source": [
    "from darwinian_shift.utils.sifts_functions import get_sifts_alignment\n",
    "import os"
   ]
  },
  {
   "cell_type": "markdown",
   "metadata": {},
   "source": [
    "# Setup"
   ]
  },
  {
   "cell_type": "code",
   "execution_count": 5,
   "metadata": {
    "ExecuteTime": {
     "end_time": "2020-06-26T14:49:11.900175Z",
     "start_time": "2020-06-26T14:49:11.894721Z"
    }
   },
   "outputs": [],
   "source": [
    "# Define the statistical tests\n",
    "\n",
    "cdf_perm = CDFPermutationTest(num_permutations=100000, testing_random_seed=0)  # Used to calculate p-values\n",
    "\n",
    "chi_sq = ChiSquareTest(bins=[-0.1, 0.5, 1.1])  # Used to calculate counts for the discrete metrics\n",
    "\n",
    "stats = [cdf_perm, chi_sq]"
   ]
  },
  {
   "cell_type": "code",
   "execution_count": 6,
   "metadata": {
    "ExecuteTime": {
     "end_time": "2020-06-26T14:50:35.896992Z",
     "start_time": "2020-06-26T14:49:11.903103Z"
    }
   },
   "outputs": [
    {
     "name": "stderr",
     "output_type": "stream",
     "text": [
      "/Users/mh28/miniconda3/envs/ds/lib/python3.8/subprocess.py:849: RuntimeWarning: line buffering (buffering=1) isn't supported in binary mode, the default buffer size will be used\n",
      "  self.stderr = io.open(errread, 'rb', bufsize)\n"
     ]
    }
   ],
   "source": [
    "# Make a DarwinianShift object for the project. \n",
    "# This calculates the mutational spectrum, sets up the statistical tests to use, and filters the data. \n",
    "d = DarwinianShift(\n",
    "    data=\"SMS-35_merged_sorted.txt\", \n",
    "    source_genome='GRCh37',\n",
    "    stats=[cdf_perm, chi_sq],\n",
    "    \n",
    "    # Just test with the missense mutations. Nonsense and synonymous mutations are still used to calculate the spectrum\n",
    "    included_mutation_types='missense'\n",
    ")"
   ]
  },
  {
   "cell_type": "code",
   "execution_count": 7,
   "metadata": {
    "ExecuteTime": {
     "end_time": "2020-06-26T14:50:35.905170Z",
     "start_time": "2020-06-26T14:50:35.899708Z"
    }
   },
   "outputs": [],
   "source": [
    "plot_directory=\".\"\n",
    "    \n",
    "sifts_directory=\".\"\n",
    "pdb_directory = \".\""
   ]
  },
  {
   "cell_type": "code",
   "execution_count": 8,
   "metadata": {
    "ExecuteTime": {
     "end_time": "2020-06-26T14:50:35.913745Z",
     "start_time": "2020-06-26T14:50:35.908288Z"
    }
   },
   "outputs": [],
   "source": [
    "# Colours\n",
    "\n",
    "unobserved_colour = '#BBBBBB'  \n",
    "observed_colour = '#EE7733'\n",
    "\n",
    "foldx_expected_colour = '#EE6677'\n",
    "foldx_observed_colour = '#CC3311'\n",
    "\n",
    "interface_expected_colour = '#88CCEE'\n",
    "interface_observed_colour = '#0077BB'\n",
    "\n",
    "calcium_expected_colour = '#8DE0D7'\n",
    "calcium_observed_colour = '#009988'"
   ]
  },
  {
   "cell_type": "code",
   "execution_count": 9,
   "metadata": {
    "ExecuteTime": {
     "end_time": "2020-06-26T14:50:35.922133Z",
     "start_time": "2020-06-26T14:50:35.917260Z"
    }
   },
   "outputs": [],
   "source": [
    "pik3ca_section_definition = {'transcript_id':'ENST00000263967', 'included_mutation_types': 'missense',\n",
    "                            'pdb_id': '4l1b', 'pdb_chain': 'A', \n",
    "                             \n",
    "                             # Targets for structural distance\n",
    "                            'p85_target': 'segid B'\n",
    "                            \n",
    "                            }"
   ]
  },
  {
   "cell_type": "code",
   "execution_count": 10,
   "metadata": {
    "ExecuteTime": {
     "end_time": "2020-06-26T14:50:35.932640Z",
     "start_time": "2020-06-26T14:50:35.925041Z"
    }
   },
   "outputs": [],
   "source": [
    "p85_distance_lookup = StructureDistanceLookup(pdb_directory=pdb_directory, sifts_directory=sifts_directory,\n",
    "                                             download_sifts=True, boolean=False, \n",
    "                                               distance_to_alpha_carbons=False,\n",
    "                                              \n",
    "                                             target_key='p85_target', name='Distance from p85α') \n",
    "\n",
    "p85_distance_lookup_bool = ANDLookup(lookups=[p85_distance_lookup], thresholds=[5], directions=[-1])"
   ]
  },
  {
   "cell_type": "code",
   "execution_count": 11,
   "metadata": {
    "ExecuteTime": {
     "end_time": "2020-06-26T14:50:42.491327Z",
     "start_time": "2020-06-26T14:50:35.935914Z"
    },
    "scrolled": false
   },
   "outputs": [
    {
     "name": "stderr",
     "output_type": "stream",
     "text": [
      "/Users/mh28/PycharmProjects/darwinian_shift/darwinian_shift/lookup_classes/combination_lookup.py:98: RuntimeWarning: invalid value encountered in less\n",
      "  results[i] = score < threshold\n"
     ]
    }
   ],
   "source": [
    "d_p85 = d.change_lookup(p85_distance_lookup_bool)\n",
    "s_p85 = d_p85.run_section(pik3ca_section_definition, statistics=[cdf_perm, chi_sq])"
   ]
  },
  {
   "cell_type": "code",
   "execution_count": 12,
   "metadata": {
    "ExecuteTime": {
     "end_time": "2020-06-26T14:50:42.502913Z",
     "start_time": "2020-06-26T14:50:42.494439Z"
    }
   },
   "outputs": [
    {
     "data": {
      "text/plain": [
       "0.026738482920837348"
      ]
     },
     "execution_count": 12,
     "metadata": {},
     "output_type": "execute_result"
    }
   ],
   "source": [
    "s_p85.get_pvalues()['chi_square_glob_k3_binom_pvalue']  # p-value from binomial test"
   ]
  },
  {
   "cell_type": "code",
   "execution_count": 13,
   "metadata": {
    "ExecuteTime": {
     "end_time": "2020-06-26T14:50:42.512131Z",
     "start_time": "2020-06-26T14:50:42.505759Z"
    }
   },
   "outputs": [
    {
     "data": {
      "text/plain": [
       "157"
      ]
     },
     "execution_count": 13,
     "metadata": {},
     "output_type": "execute_result"
    }
   ],
   "source": [
    "s_p85.num_mutations"
   ]
  },
  {
   "cell_type": "code",
   "execution_count": 14,
   "metadata": {
    "ExecuteTime": {
     "end_time": "2020-06-26T14:50:42.795512Z",
     "start_time": "2020-06-26T14:50:42.515355Z"
    }
   },
   "outputs": [
    {
     "data": {
      "image/png": "[encoded data removed]",
      "text/plain": [
       "<Figure size 144x216 with 1 Axes>"
      ]
     },
     "metadata": {
      "needs_background": "light"
     },
     "output_type": "display_data"
    }
   ],
   "source": [
    "s_p85.plot_binned_counts(figsize=(2, 3), show_legend=False, \n",
    "                                      colours=[interface_observed_colour, interface_expected_colour])\n",
    "plt.xlim(left=0.75)\n",
    "plt.ylim(top=33)\n",
    "plt.title(\"\")\n",
    "plt.xticks([1.1, 1.5], ['Exp.', 'Obs.'], rotation=0)\n",
    "plt.ylabel('Mutations on p85α interface')\n",
    "hide_top_and_right_axes(plt.gca())\n",
    "plt.tight_layout()\n",
    "plt.savefig(os.path.join(plot_directory,\"pik3ca_bar_interface_p85.pdf\"),  transparent=True);"
   ]
  },
  {
   "cell_type": "code",
   "execution_count": null,
   "metadata": {},
   "outputs": [],
   "source": []
  }
 ],
 "metadata": {
  "kernelspec": {
   "display_name": "Python 3",
   "language": "python",
   "name": "python3"
  },
  "language_info": {
   "codemirror_mode": {
    "name": "ipython",
    "version": 3
   },
   "file_extension": ".py",
   "mimetype": "text/x-python",
   "name": "python",
   "nbconvert_exporter": "python",
   "pygments_lexer": "ipython3",
   "version": "3.8.2"
  }
 },
 "nbformat": 4,
 "nbformat_minor": 4
}
