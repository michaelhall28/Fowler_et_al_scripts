{
 "cells": [
  {
   "cell_type": "markdown",
   "metadata": {},
   "source": [
    "# Imports"
   ]
  },
  {
   "cell_type": "code",
   "execution_count": 1,
   "metadata": {
    "ExecuteTime": {
     "end_time": "2020-06-26T15:13:58.132528Z",
     "start_time": "2020-06-26T15:13:57.212661Z"
    }
   },
   "outputs": [],
   "source": [
    "import os\n",
    "import numpy as np\n",
    "import pandas as pd\n",
    "import matplotlib.pyplot as plt\n",
    "%matplotlib inline"
   ]
  },
  {
   "cell_type": "code",
   "execution_count": 2,
   "metadata": {
    "ExecuteTime": {
     "end_time": "2020-06-26T15:14:00.070973Z",
     "start_time": "2020-06-26T15:13:58.134445Z"
    }
   },
   "outputs": [],
   "source": [
    "from darwinian_shift import DarwinianShift, GlobalKmerSpectrum, TranscriptKmerSpectrum, EvenMutationalSpectrum\n",
    "from darwinian_shift import CDFPermutationTest, ChiSquareTest, PermutationTest\n",
    "from darwinian_shift import FoldXLookup, SequenceDistanceLookup, MutationExclusionLookup, StructureDistanceLookup\n",
    "from darwinian_shift import MutationExclusionLookup, ORLookup\n",
    "from darwinian_shift import hide_top_and_right_axes"
   ]
  },
  {
   "cell_type": "code",
   "execution_count": 3,
   "metadata": {
    "ExecuteTime": {
     "end_time": "2020-06-26T15:14:00.077287Z",
     "start_time": "2020-06-26T15:14:00.073628Z"
    }
   },
   "outputs": [],
   "source": [
    "from darwinian_shift.additional_plotting_functions import plot_scatter_two_scores"
   ]
  },
  {
   "cell_type": "code",
   "execution_count": 4,
   "metadata": {
    "ExecuteTime": {
     "end_time": "2020-06-26T15:14:00.085191Z",
     "start_time": "2020-06-26T15:14:00.080811Z"
    }
   },
   "outputs": [],
   "source": [
    "from darwinian_shift.utils.sifts_functions import get_sifts_alignment\n",
    "import os"
   ]
  },
  {
   "cell_type": "markdown",
   "metadata": {},
   "source": [
    "# Setup"
   ]
  },
  {
   "cell_type": "code",
   "execution_count": 5,
   "metadata": {
    "ExecuteTime": {
     "end_time": "2020-06-26T15:14:00.096711Z",
     "start_time": "2020-06-26T15:14:00.088489Z"
    }
   },
   "outputs": [],
   "source": [
    "# Define the region to test\n",
    "p53_dbd_section = {\n",
    "    'transcript_id': 'ENST00000269305', 'pdb_id': '2ac0', 'pdb_chain': 'A', \n",
    "    'excluded_residues': [292]  # Lys292 is missing from the alpha-carbon in chain A. For consistency between tests, exclude from all\n",
    "}\n"
   ]
  },
  {
   "cell_type": "code",
   "execution_count": 6,
   "metadata": {
    "ExecuteTime": {
     "end_time": "2020-06-26T15:14:00.105586Z",
     "start_time": "2020-06-26T15:14:00.100348Z"
    }
   },
   "outputs": [],
   "source": [
    "# Define the statistical tests\n",
    "\n",
    "cdf_perm = CDFPermutationTest(num_permutations=100000, testing_random_seed=0)  # Used to calculate p-values\n",
    "\n",
    "chi_sq = ChiSquareTest(bins=[-0.1, 0.5, 1.1])  # Used to calculate counts for the discrete metrics\n",
    "\n",
    "stats = [cdf_perm, chi_sq]"
   ]
  },
  {
   "cell_type": "code",
   "execution_count": 7,
   "metadata": {
    "ExecuteTime": {
     "end_time": "2020-06-26T15:15:20.567469Z",
     "start_time": "2020-06-26T15:14:00.108130Z"
    }
   },
   "outputs": [
    {
     "name": "stderr",
     "output_type": "stream",
     "text": [
      "/Users/mh28/miniconda3/envs/ds/lib/python3.8/subprocess.py:849: RuntimeWarning: line buffering (buffering=1) isn't supported in binary mode, the default buffer size will be used\n",
      "  self.stderr = io.open(errread, 'rb', bufsize)\n"
     ]
    }
   ],
   "source": [
    "# Make a DarwinianShift object for the project. \n",
    "# This calculates the mutational spectrum, sets up the statistical tests to use, and filters the data. \n",
    "d = DarwinianShift(\n",
    "    data=\"SMS-35_merged_sorted.txt\", \n",
    "    source_genome='GRCh37',\n",
    "    stats=[cdf_perm, chi_sq],\n",
    "    spectra=GlobalKmerSpectrum(\n",
    "        k=3,  # Use a trinucleotide context,\n",
    "        ignore_strand=False,  # Transcribed strand of the protein matters, so have 192 different mutation types\n",
    "        deduplicate_spectrum=False,  # Do not remove duplicate mutations when calculating the spectrum\n",
    "        name=''  # Use a blank name, so in the plots it will just say \"Expected\"\n",
    "    ),\n",
    "    # Just test with the missense mutations. Nonsense and synonymous mutations are still used to calculate the spectrum\n",
    "    included_mutation_types='missense'\n",
    ")"
   ]
  },
  {
   "cell_type": "code",
   "execution_count": 8,
   "metadata": {
    "ExecuteTime": {
     "end_time": "2020-06-26T15:15:20.574678Z",
     "start_time": "2020-06-26T15:15:20.571484Z"
    }
   },
   "outputs": [],
   "source": [
    "plot_directory=\".\"\n",
    "    \n",
    "sifts_directory=\".\"\n",
    "pdb_directory = \".\""
   ]
  },
  {
   "cell_type": "code",
   "execution_count": 9,
   "metadata": {
    "ExecuteTime": {
     "end_time": "2020-06-26T15:15:20.583445Z",
     "start_time": "2020-06-26T15:15:20.578387Z"
    }
   },
   "outputs": [],
   "source": [
    "# Colours\n",
    "\n",
    "unobserved_colour = '#BBBBBB'  \n",
    "observed_colour = '#EE7733'\n",
    "\n",
    "foldx_expected_colour = '#EE6677'\n",
    "foldx_observed_colour = '#CC3311'\n",
    "\n",
    "interface_expected_colour = '#88CCEE'\n",
    "interface_observed_colour = '#0077BB'\n",
    "\n",
    "calcium_expected_colour = '#8DE0D7'\n",
    "calcium_observed_colour = '#009988'"
   ]
  },
  {
   "cell_type": "markdown",
   "metadata": {},
   "source": [
    "# Results"
   ]
  },
  {
   "cell_type": "markdown",
   "metadata": {},
   "source": [
    "## Defining metrics"
   ]
  },
  {
   "cell_type": "code",
   "execution_count": 10,
   "metadata": {
    "ExecuteTime": {
     "end_time": "2020-06-26T15:15:20.592358Z",
     "start_time": "2020-06-26T15:15:20.585698Z"
    }
   },
   "outputs": [],
   "source": [
    "# Define the FoldX lookup\n",
    "fold = FoldXLookup(foldx_results_directory=\"./FoldX_results\",\n",
    "                      sifts_directory=sifts_directory,\n",
    "                      foldx_file_name_start=\"PS_f*\", download_sifts=True)"
   ]
  },
  {
   "cell_type": "code",
   "execution_count": 11,
   "metadata": {
    "ExecuteTime": {
     "end_time": "2020-06-26T15:15:20.598045Z",
     "start_time": "2020-06-26T15:15:20.594487Z"
    }
   },
   "outputs": [],
   "source": [
    "target_selection_string = 'segid E F G H'\n",
    "p53_dbd_section['DNA_target'] = target_selection_string"
   ]
  },
  {
   "cell_type": "code",
   "execution_count": 12,
   "metadata": {
    "ExecuteTime": {
     "end_time": "2020-06-26T15:15:20.608499Z",
     "start_time": "2020-06-26T15:15:20.600897Z"
    }
   },
   "outputs": [],
   "source": [
    "# Define a lookup object which measures distance from the DNA\n",
    "interface_lookup = StructureDistanceLookup(\n",
    "    boolean=False,  \n",
    "    target_key='DNA_target',   # Use this entry in the section_definition dict to define the target residues\n",
    "    name='Distance from DNA (A)',  # Label to appear on plot axes\n",
    "    distance_to_alpha_carbons=True,\n",
    "    \n",
    "    # Uses the pdb file and SIFTS. Provide paths to directories including those files.\n",
    "    pdb_directory=pdb_directory,\n",
    "    sifts_directory=sifts_directory, \n",
    "    download_sifts=True   # Download the SIFTS file if not already in the directory\n",
    ")"
   ]
  },
  {
   "cell_type": "markdown",
   "metadata": {},
   "source": [
    "## Statistical tests"
   ]
  },
  {
   "cell_type": "markdown",
   "metadata": {},
   "source": [
    "### FoldX"
   ]
  },
  {
   "cell_type": "code",
   "execution_count": 13,
   "metadata": {
    "ExecuteTime": {
     "end_time": "2020-06-26T15:15:20.615203Z",
     "start_time": "2020-06-26T15:15:20.610784Z"
    }
   },
   "outputs": [],
   "source": [
    "excllook_foldx = MutationExclusionLookup(\n",
    "    lookup=fold,   # Use the calcium binding lookup for the test\n",
    "    exclusion_lookup=interface_lookup,\n",
    "    exclusion_threshold=5,  \n",
    "    exclusion_direction=-1,  \n",
    "    name=fold.name\n",
    ")"
   ]
  },
  {
   "cell_type": "code",
   "execution_count": 14,
   "metadata": {
    "ExecuteTime": {
     "end_time": "2020-06-26T15:15:20.639247Z",
     "start_time": "2020-06-26T15:15:20.618125Z"
    }
   },
   "outputs": [],
   "source": [
    "d_fold = d.change_lookup(excllook_foldx)"
   ]
  },
  {
   "cell_type": "code",
   "execution_count": 15,
   "metadata": {
    "ExecuteTime": {
     "end_time": "2020-06-26T15:15:29.499452Z",
     "start_time": "2020-06-26T15:15:20.642170Z"
    }
   },
   "outputs": [
    {
     "name": "stderr",
     "output_type": "stream",
     "text": [
      "/Users/mh28/PycharmProjects/darwinian_shift/darwinian_shift/lookup_classes/combination_lookup.py:139: RuntimeWarning: invalid value encountered in less\n",
      "  excluded_muts = exclusion_scores < self.exclusion_threshold\n"
     ]
    }
   ],
   "source": [
    "s_fold_p53 = d_fold.run_section(p53_dbd_section, statistics=[cdf_perm])"
   ]
  },
  {
   "cell_type": "code",
   "execution_count": 16,
   "metadata": {
    "ExecuteTime": {
     "end_time": "2020-06-26T15:15:33.211274Z",
     "start_time": "2020-06-26T15:15:29.509717Z"
    }
   },
   "outputs": [
    {
     "data": {
      "image/png": "[encoded data removed]",
      "text/plain": [
       "<Figure size 180x216 with 1 Axes>"
      ]
     },
     "metadata": {
      "needs_background": "light"
     },
     "output_type": "display_data"
    }
   ],
   "source": [
    "s_fold_p53.plot_boxplot(figsize=(2.5, 3), plot_scale='symlog',\n",
    "                    colours=[foldx_observed_colour, foldx_expected_colour])\n",
    "hide_top_and_right_axes()\n",
    "plt.tight_layout()\n",
    "plt.savefig(os.path.join(plot_directory, 'p53_box_plot_foldX.pdf'), transparent=True)"
   ]
  },
  {
   "cell_type": "code",
   "execution_count": 17,
   "metadata": {
    "ExecuteTime": {
     "end_time": "2020-06-26T15:15:33.228751Z",
     "start_time": "2020-06-26T15:15:33.217032Z"
    }
   },
   "outputs": [
    {
     "data": {
      "text/plain": [
       "{'CDF_perm__pvalue': 1.999980000199998e-05}"
      ]
     },
     "execution_count": 17,
     "metadata": {},
     "output_type": "execute_result"
    }
   ],
   "source": [
    "s_fold_p53.get_pvalues()"
   ]
  },
  {
   "cell_type": "code",
   "execution_count": 18,
   "metadata": {
    "ExecuteTime": {
     "end_time": "2020-06-26T15:15:33.241706Z",
     "start_time": "2020-06-26T15:15:33.232923Z"
    }
   },
   "outputs": [
    {
     "data": {
      "text/plain": [
       "760"
      ]
     },
     "execution_count": 18,
     "metadata": {},
     "output_type": "execute_result"
    }
   ],
   "source": [
    "s_fold_p53.num_mutations"
   ]
  },
  {
   "cell_type": "markdown",
   "metadata": {},
   "source": [
    "### Interface"
   ]
  },
  {
   "cell_type": "code",
   "execution_count": 19,
   "metadata": {
    "ExecuteTime": {
     "end_time": "2020-06-26T15:15:33.253371Z",
     "start_time": "2020-06-26T15:15:33.245969Z"
    }
   },
   "outputs": [],
   "source": [
    "excllook_interface = MutationExclusionLookup(\n",
    "    lookup=interface_lookup,   # Use the calcium binding lookup for the test\n",
    "    exclusion_lookup=fold,\n",
    "    exclusion_threshold=2,  \n",
    "    exclusion_direction=1,  \n",
    "    name=interface_lookup.name\n",
    ")"
   ]
  },
  {
   "cell_type": "code",
   "execution_count": 20,
   "metadata": {
    "ExecuteTime": {
     "end_time": "2020-06-26T15:15:33.282063Z",
     "start_time": "2020-06-26T15:15:33.257880Z"
    }
   },
   "outputs": [],
   "source": [
    "d_interface = d.change_lookup(excllook_interface)"
   ]
  },
  {
   "cell_type": "code",
   "execution_count": 21,
   "metadata": {
    "ExecuteTime": {
     "end_time": "2020-06-26T15:15:39.972183Z",
     "start_time": "2020-06-26T15:15:33.285075Z"
    }
   },
   "outputs": [
    {
     "name": "stderr",
     "output_type": "stream",
     "text": [
      "/Users/mh28/PycharmProjects/darwinian_shift/darwinian_shift/lookup_classes/combination_lookup.py:136: RuntimeWarning: invalid value encountered in greater\n",
      "  excluded_muts = exclusion_scores > self.exclusion_threshold\n"
     ]
    }
   ],
   "source": [
    "s_interface_p53 = d_interface.run_section(p53_dbd_section, statistics=[cdf_perm])"
   ]
  },
  {
   "cell_type": "code",
   "execution_count": 22,
   "metadata": {
    "ExecuteTime": {
     "end_time": "2020-06-26T15:15:40.348785Z",
     "start_time": "2020-06-26T15:15:39.976104Z"
    }
   },
   "outputs": [
    {
     "data": {
      "image/png": "[encoded data removed]",
      "text/plain": [
       "<Figure size 180x216 with 1 Axes>"
      ]
     },
     "metadata": {
      "needs_background": "light"
     },
     "output_type": "display_data"
    }
   ],
   "source": [
    "s_interface_p53.plot_boxplot(figsize=(2.5, 3), plot_scale='symlog',\n",
    "                    colours=[interface_observed_colour, interface_expected_colour])\n",
    "hide_top_and_right_axes()\n",
    "plt.tight_layout()\n",
    "plt.savefig(os.path.join(plot_directory, 'p53_box_plot_interface.pdf'), transparent=True)"
   ]
  },
  {
   "cell_type": "code",
   "execution_count": 23,
   "metadata": {
    "ExecuteTime": {
     "end_time": "2020-06-26T15:15:40.368613Z",
     "start_time": "2020-06-26T15:15:40.359142Z"
    }
   },
   "outputs": [
    {
     "data": {
      "text/plain": [
       "{'CDF_perm__pvalue': 1.999980000199998e-05}"
      ]
     },
     "execution_count": 23,
     "metadata": {},
     "output_type": "execute_result"
    }
   ],
   "source": [
    "s_interface_p53.get_pvalues()"
   ]
  },
  {
   "cell_type": "code",
   "execution_count": 24,
   "metadata": {
    "ExecuteTime": {
     "end_time": "2020-06-26T15:15:40.384892Z",
     "start_time": "2020-06-26T15:15:40.372733Z"
    }
   },
   "outputs": [
    {
     "data": {
      "text/plain": [
       "395"
      ]
     },
     "execution_count": 24,
     "metadata": {},
     "output_type": "execute_result"
    }
   ],
   "source": [
    "s_interface_p53.num_mutations"
   ]
  }
 ],
 "metadata": {
  "kernelspec": {
   "display_name": "Python 3",
   "language": "python",
   "name": "python3"
  },
  "language_info": {
   "codemirror_mode": {
    "name": "ipython",
    "version": 3
   },
   "file_extension": ".py",
   "mimetype": "text/x-python",
   "name": "python",
   "nbconvert_exporter": "python",
   "pygments_lexer": "ipython3",
   "version": "3.8.2"
  }
 },
 "nbformat": 4,
 "nbformat_minor": 4
}
